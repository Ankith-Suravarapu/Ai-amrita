{
  "nbformat": 4,
  "nbformat_minor": 0,
  "metadata": {
    "colab": {
      "name": "DataExploration_Practice.ipynb",
      "provenance": [],
      "authorship_tag": "ABX9TyMaj+JwiWKPQ3Tdo6kUEQO3"
    },
    "kernelspec": {
      "name": "python3",
      "display_name": "Python 3"
    },
    "language_info": {
      "name": "python"
    }
  },
  "cells": [
    {
      "cell_type": "markdown",
      "metadata": {
        "id": "M3HdsKcIRZl8"
      },
      "source": [
        "**S.Ankith**"
      ]
    },
    {
      "cell_type": "markdown",
      "metadata": {
        "id": "w2E03nfARYjY"
      },
      "source": [
        "**20070**"
      ]
    },
    {
      "cell_type": "code",
      "metadata": {
        "id": "S1e9AWvKPj3z"
      },
      "source": [
        "import pandas as pd"
      ],
      "execution_count": 1,
      "outputs": []
    },
    {
      "cell_type": "code",
      "metadata": {
        "colab": {
          "base_uri": "https://localhost:8080/"
        },
        "id": "SDBhRf4xQSBv",
        "outputId": "8b94a67e-673f-49e0-de7c-f3c4f80a029e"
      },
      "source": [
        "from google.colab import drive\n",
        "drive.mount('/content/gdrive')"
      ],
      "execution_count": 2,
      "outputs": [
        {
          "output_type": "stream",
          "text": [
            "Mounted at /content/gdrive\n"
          ],
          "name": "stdout"
        }
      ]
    },
    {
      "cell_type": "code",
      "metadata": {
        "id": "AZN2w5sRQWXl"
      },
      "source": [
        "DatasetBaseFolder = '/content/gdrive/MyDrive/ColabNotebooks/PandasTI/Datasets/'"
      ],
      "execution_count": 3,
      "outputs": []
    },
    {
      "cell_type": "code",
      "metadata": {
        "colab": {
          "base_uri": "https://localhost:8080/",
          "height": 204
        },
        "id": "qDiH20zsQfFT",
        "outputId": "6ba3e368-6d36-46b6-c977-b04837f1ccda"
      },
      "source": [
        "df = pd.read_csv(DatasetBaseFolder+'Bone Mineral Density.csv')\n",
        "df.head()\n"
      ],
      "execution_count": 4,
      "outputs": [
        {
          "output_type": "execute_result",
          "data": {
            "text/html": [
              "<div>\n",
              "<style scoped>\n",
              "    .dataframe tbody tr th:only-of-type {\n",
              "        vertical-align: middle;\n",
              "    }\n",
              "\n",
              "    .dataframe tbody tr th {\n",
              "        vertical-align: top;\n",
              "    }\n",
              "\n",
              "    .dataframe thead th {\n",
              "        text-align: right;\n",
              "    }\n",
              "</style>\n",
              "<table border=\"1\" class=\"dataframe\">\n",
              "  <thead>\n",
              "    <tr style=\"text-align: right;\">\n",
              "      <th></th>\n",
              "      <th>id</th>\n",
              "      <th>age</th>\n",
              "      <th>sex</th>\n",
              "      <th>fracture</th>\n",
              "      <th>weight_kg</th>\n",
              "      <th>height_cm</th>\n",
              "      <th>medication</th>\n",
              "      <th>waiting_time</th>\n",
              "      <th>bmd</th>\n",
              "    </tr>\n",
              "  </thead>\n",
              "  <tbody>\n",
              "    <tr>\n",
              "      <th>0</th>\n",
              "      <td>469</td>\n",
              "      <td>57.052768</td>\n",
              "      <td>F</td>\n",
              "      <td>no fracture</td>\n",
              "      <td>64.0</td>\n",
              "      <td>155.5</td>\n",
              "      <td>Anticonvulsant</td>\n",
              "      <td>18</td>\n",
              "      <td>0.8793</td>\n",
              "    </tr>\n",
              "    <tr>\n",
              "      <th>1</th>\n",
              "      <td>8724</td>\n",
              "      <td>75.741225</td>\n",
              "      <td>F</td>\n",
              "      <td>no fracture</td>\n",
              "      <td>78.0</td>\n",
              "      <td>162.0</td>\n",
              "      <td>No medication</td>\n",
              "      <td>56</td>\n",
              "      <td>0.7946</td>\n",
              "    </tr>\n",
              "    <tr>\n",
              "      <th>2</th>\n",
              "      <td>6736</td>\n",
              "      <td>70.778900</td>\n",
              "      <td>M</td>\n",
              "      <td>no fracture</td>\n",
              "      <td>73.0</td>\n",
              "      <td>170.5</td>\n",
              "      <td>No medication</td>\n",
              "      <td>10</td>\n",
              "      <td>0.9067</td>\n",
              "    </tr>\n",
              "    <tr>\n",
              "      <th>3</th>\n",
              "      <td>24180</td>\n",
              "      <td>78.247175</td>\n",
              "      <td>F</td>\n",
              "      <td>no fracture</td>\n",
              "      <td>60.0</td>\n",
              "      <td>148.0</td>\n",
              "      <td>No medication</td>\n",
              "      <td>14</td>\n",
              "      <td>0.7112</td>\n",
              "    </tr>\n",
              "    <tr>\n",
              "      <th>4</th>\n",
              "      <td>17072</td>\n",
              "      <td>54.191877</td>\n",
              "      <td>M</td>\n",
              "      <td>no fracture</td>\n",
              "      <td>55.0</td>\n",
              "      <td>161.0</td>\n",
              "      <td>No medication</td>\n",
              "      <td>20</td>\n",
              "      <td>0.7909</td>\n",
              "    </tr>\n",
              "  </tbody>\n",
              "</table>\n",
              "</div>"
            ],
            "text/plain": [
              "      id        age sex  ...      medication  waiting_time     bmd\n",
              "0    469  57.052768   F  ...  Anticonvulsant            18  0.8793\n",
              "1   8724  75.741225   F  ...   No medication            56  0.7946\n",
              "2   6736  70.778900   M  ...   No medication            10  0.9067\n",
              "3  24180  78.247175   F  ...   No medication            14  0.7112\n",
              "4  17072  54.191877   M  ...   No medication            20  0.7909\n",
              "\n",
              "[5 rows x 9 columns]"
            ]
          },
          "metadata": {
            "tags": []
          },
          "execution_count": 4
        }
      ]
    },
    {
      "cell_type": "code",
      "metadata": {
        "colab": {
          "base_uri": "https://localhost:8080/"
        },
        "id": "HQt4krawQ0oY",
        "outputId": "049c1a48-4f42-4930-fb53-f5946dff24e0"
      },
      "source": [
        "df.shape"
      ],
      "execution_count": 5,
      "outputs": [
        {
          "output_type": "execute_result",
          "data": {
            "text/plain": [
              "(169, 9)"
            ]
          },
          "metadata": {
            "tags": []
          },
          "execution_count": 5
        }
      ]
    },
    {
      "cell_type": "code",
      "metadata": {
        "colab": {
          "base_uri": "https://localhost:8080/",
          "height": 297
        },
        "id": "sVZXdC4ZQ5uK",
        "outputId": "fe20cd38-e89e-4bf8-e3eb-e7512a02df2e"
      },
      "source": [
        "df.describe()"
      ],
      "execution_count": 6,
      "outputs": [
        {
          "output_type": "execute_result",
          "data": {
            "text/html": [
              "<div>\n",
              "<style scoped>\n",
              "    .dataframe tbody tr th:only-of-type {\n",
              "        vertical-align: middle;\n",
              "    }\n",
              "\n",
              "    .dataframe tbody tr th {\n",
              "        vertical-align: top;\n",
              "    }\n",
              "\n",
              "    .dataframe thead th {\n",
              "        text-align: right;\n",
              "    }\n",
              "</style>\n",
              "<table border=\"1\" class=\"dataframe\">\n",
              "  <thead>\n",
              "    <tr style=\"text-align: right;\">\n",
              "      <th></th>\n",
              "      <th>id</th>\n",
              "      <th>age</th>\n",
              "      <th>weight_kg</th>\n",
              "      <th>height_cm</th>\n",
              "      <th>waiting_time</th>\n",
              "      <th>bmd</th>\n",
              "    </tr>\n",
              "  </thead>\n",
              "  <tbody>\n",
              "    <tr>\n",
              "      <th>count</th>\n",
              "      <td>169.000000</td>\n",
              "      <td>169.000000</td>\n",
              "      <td>169.000000</td>\n",
              "      <td>169.000000</td>\n",
              "      <td>169.000000</td>\n",
              "      <td>169.000000</td>\n",
              "    </tr>\n",
              "    <tr>\n",
              "      <th>mean</th>\n",
              "      <td>9102.556213</td>\n",
              "      <td>63.631531</td>\n",
              "      <td>64.665680</td>\n",
              "      <td>160.254438</td>\n",
              "      <td>19.739645</td>\n",
              "      <td>0.783104</td>\n",
              "    </tr>\n",
              "    <tr>\n",
              "      <th>std</th>\n",
              "      <td>8744.623598</td>\n",
              "      <td>12.356936</td>\n",
              "      <td>11.537171</td>\n",
              "      <td>7.928272</td>\n",
              "      <td>15.800570</td>\n",
              "      <td>0.166529</td>\n",
              "    </tr>\n",
              "    <tr>\n",
              "      <th>min</th>\n",
              "      <td>35.000000</td>\n",
              "      <td>35.814058</td>\n",
              "      <td>36.000000</td>\n",
              "      <td>142.000000</td>\n",
              "      <td>5.000000</td>\n",
              "      <td>0.407600</td>\n",
              "    </tr>\n",
              "    <tr>\n",
              "      <th>25%</th>\n",
              "      <td>2018.000000</td>\n",
              "      <td>54.424211</td>\n",
              "      <td>56.000000</td>\n",
              "      <td>154.000000</td>\n",
              "      <td>9.000000</td>\n",
              "      <td>0.670800</td>\n",
              "    </tr>\n",
              "    <tr>\n",
              "      <th>50%</th>\n",
              "      <td>6702.000000</td>\n",
              "      <td>63.487837</td>\n",
              "      <td>64.500000</td>\n",
              "      <td>160.500000</td>\n",
              "      <td>14.000000</td>\n",
              "      <td>0.786100</td>\n",
              "    </tr>\n",
              "    <tr>\n",
              "      <th>75%</th>\n",
              "      <td>17100.000000</td>\n",
              "      <td>72.080558</td>\n",
              "      <td>73.000000</td>\n",
              "      <td>166.000000</td>\n",
              "      <td>24.000000</td>\n",
              "      <td>0.888800</td>\n",
              "    </tr>\n",
              "    <tr>\n",
              "      <th>max</th>\n",
              "      <td>24208.000000</td>\n",
              "      <td>88.753795</td>\n",
              "      <td>96.000000</td>\n",
              "      <td>177.000000</td>\n",
              "      <td>96.000000</td>\n",
              "      <td>1.362400</td>\n",
              "    </tr>\n",
              "  </tbody>\n",
              "</table>\n",
              "</div>"
            ],
            "text/plain": [
              "                 id         age  ...  waiting_time         bmd\n",
              "count    169.000000  169.000000  ...    169.000000  169.000000\n",
              "mean    9102.556213   63.631531  ...     19.739645    0.783104\n",
              "std     8744.623598   12.356936  ...     15.800570    0.166529\n",
              "min       35.000000   35.814058  ...      5.000000    0.407600\n",
              "25%     2018.000000   54.424211  ...      9.000000    0.670800\n",
              "50%     6702.000000   63.487837  ...     14.000000    0.786100\n",
              "75%    17100.000000   72.080558  ...     24.000000    0.888800\n",
              "max    24208.000000   88.753795  ...     96.000000    1.362400\n",
              "\n",
              "[8 rows x 6 columns]"
            ]
          },
          "metadata": {
            "tags": []
          },
          "execution_count": 6
        }
      ]
    },
    {
      "cell_type": "code",
      "metadata": {
        "colab": {
          "base_uri": "https://localhost:8080/"
        },
        "id": "WPtIKfCqQ8mY",
        "outputId": "2bfa45e0-bc44-4aa7-c6b2-88ff7e2df486"
      },
      "source": [
        "df.bmd.unique()"
      ],
      "execution_count": 7,
      "outputs": [
        {
          "output_type": "execute_result",
          "data": {
            "text/plain": [
              "array([0.8793    , 0.79460001, 0.90670002, 0.7112    , 0.79089999,\n",
              "       0.73009998, 1.0096    , 0.73100001, 0.6893    , 0.94660002,\n",
              "       0.80150002, 0.57929999, 0.97600001, 0.91839999, 0.80199999,\n",
              "       0.80330002, 0.7978    , 1.039     , 0.78609997, 0.82539999,\n",
              "       0.84990001, 0.89819998, 0.77380002, 0.83770001, 0.81260002,\n",
              "       0.92339998, 1.0405999 , 1.002     , 0.625     , 0.9364    ,\n",
              "       1.0908999 , 0.80790001, 0.89950001, 0.73500001, 1.0003    ,\n",
              "       1.0128    , 1.0265    , 0.8994    , 1.0031    , 0.90609998,\n",
              "       0.71280003, 1.0266    , 0.963     , 0.84289998, 0.92619997,\n",
              "       0.81709999, 0.88880002, 1.3624001 , 1.0015    , 1.0197999 ,\n",
              "       0.55140001, 0.71710002, 0.85479999, 0.7766    , 0.7999    ,\n",
              "       0.80129999, 0.9716    , 0.98509997, 0.85600001, 0.70950001,\n",
              "       0.63380003, 0.73839998, 0.73470002, 0.73460001, 0.64960003,\n",
              "       1.2508    , 0.88190001, 0.7755    , 0.8599    , 0.8829    ,\n",
              "       0.79659998, 0.77579999, 0.90359998, 0.86379999, 0.75099999,\n",
              "       1.0839    , 0.74089998, 0.99900001, 0.58990002, 0.87199998,\n",
              "       1.1335    , 1.0502    , 0.8362    , 0.72149998, 0.9824    ,\n",
              "       0.9436    , 0.86220002, 0.78049999, 0.7895    , 0.85089999,\n",
              "       0.76599997, 0.85930002, 0.91390002, 0.7586    , 0.87760001,\n",
              "       0.509     , 1.0617    , 0.83069998, 0.73110002, 0.97060001,\n",
              "       1.0366    , 0.77819997, 0.72689998, 0.70959997, 0.61220002,\n",
              "       0.83899999, 0.90100002, 1.0176001 , 0.75089997, 0.73140001,\n",
              "       0.83700001, 0.796     , 1.0287    , 0.72009999, 0.61870003,\n",
              "       0.67439997, 0.86809999, 0.45860001, 0.48179999, 0.52789998,\n",
              "       0.52850002, 0.52869999, 0.53869998, 0.54189998, 0.55150002,\n",
              "       0.55790001, 0.56760001, 0.56349999, 0.57209998, 0.52939999,\n",
              "       0.55470002, 0.56029999, 0.5693    , 0.60009998, 0.6103    ,\n",
              "       0.62040001, 0.62639999, 0.40759999, 0.44069999, 0.48519999,\n",
              "       0.55549997, 0.56150001, 0.61019999, 0.62970001, 0.63849998,\n",
              "       0.63880002, 0.64090002, 0.64319998, 0.64480001, 0.64950001,\n",
              "       0.67079997, 0.68800002, 0.6882    , 0.68839997, 0.68989998,\n",
              "       0.6904    , 0.7076    , 0.70850003, 0.72460002, 0.73989999,\n",
              "       0.77450001, 0.79409999, 0.79710001, 0.80369997, 0.80720001,\n",
              "       0.8664    ])"
            ]
          },
          "metadata": {
            "tags": []
          },
          "execution_count": 7
        }
      ]
    },
    {
      "cell_type": "code",
      "metadata": {
        "colab": {
          "base_uri": "https://localhost:8080/"
        },
        "id": "tVFPYa81RLwY",
        "outputId": "c17a8e61-3161-4b4d-d61d-c269a7bc745c"
      },
      "source": [
        "\n",
        "df.bmd.value_counts()"
      ],
      "execution_count": 8,
      "outputs": [
        {
          "output_type": "execute_result",
          "data": {
            "text/plain": [
              "0.6904    2\n",
              "0.7128    2\n",
              "0.8888    2\n",
              "0.6409    1\n",
              "0.5899    1\n",
              "         ..\n",
              "0.6496    1\n",
              "0.7314    1\n",
              "0.8720    1\n",
              "0.8072    1\n",
              "0.6250    1\n",
              "Name: bmd, Length: 166, dtype: int64"
            ]
          },
          "metadata": {
            "tags": []
          },
          "execution_count": 8
        }
      ]
    },
    {
      "cell_type": "code",
      "metadata": {
        "colab": {
          "base_uri": "https://localhost:8080/",
          "height": 235
        },
        "id": "Vd4VH-9ORRk1",
        "outputId": "4dbd132c-b8da-4b77-ed8e-6b06a25ab926"
      },
      "source": [
        "\n",
        "df.corr()\n"
      ],
      "execution_count": 9,
      "outputs": [
        {
          "output_type": "execute_result",
          "data": {
            "text/html": [
              "<div>\n",
              "<style scoped>\n",
              "    .dataframe tbody tr th:only-of-type {\n",
              "        vertical-align: middle;\n",
              "    }\n",
              "\n",
              "    .dataframe tbody tr th {\n",
              "        vertical-align: top;\n",
              "    }\n",
              "\n",
              "    .dataframe thead th {\n",
              "        text-align: right;\n",
              "    }\n",
              "</style>\n",
              "<table border=\"1\" class=\"dataframe\">\n",
              "  <thead>\n",
              "    <tr style=\"text-align: right;\">\n",
              "      <th></th>\n",
              "      <th>id</th>\n",
              "      <th>age</th>\n",
              "      <th>weight_kg</th>\n",
              "      <th>height_cm</th>\n",
              "      <th>waiting_time</th>\n",
              "      <th>bmd</th>\n",
              "    </tr>\n",
              "  </thead>\n",
              "  <tbody>\n",
              "    <tr>\n",
              "      <th>id</th>\n",
              "      <td>1.000000</td>\n",
              "      <td>-0.096807</td>\n",
              "      <td>0.087085</td>\n",
              "      <td>-0.103910</td>\n",
              "      <td>-0.010195</td>\n",
              "      <td>0.027456</td>\n",
              "    </tr>\n",
              "    <tr>\n",
              "      <th>age</th>\n",
              "      <td>-0.096807</td>\n",
              "      <td>1.000000</td>\n",
              "      <td>-0.093117</td>\n",
              "      <td>-0.215269</td>\n",
              "      <td>0.037561</td>\n",
              "      <td>-0.306576</td>\n",
              "    </tr>\n",
              "    <tr>\n",
              "      <th>weight_kg</th>\n",
              "      <td>0.087085</td>\n",
              "      <td>-0.093117</td>\n",
              "      <td>1.000000</td>\n",
              "      <td>0.367827</td>\n",
              "      <td>-0.046684</td>\n",
              "      <td>0.555964</td>\n",
              "    </tr>\n",
              "    <tr>\n",
              "      <th>height_cm</th>\n",
              "      <td>-0.103910</td>\n",
              "      <td>-0.215269</td>\n",
              "      <td>0.367827</td>\n",
              "      <td>1.000000</td>\n",
              "      <td>0.009275</td>\n",
              "      <td>0.324430</td>\n",
              "    </tr>\n",
              "    <tr>\n",
              "      <th>waiting_time</th>\n",
              "      <td>-0.010195</td>\n",
              "      <td>0.037561</td>\n",
              "      <td>-0.046684</td>\n",
              "      <td>0.009275</td>\n",
              "      <td>1.000000</td>\n",
              "      <td>-0.192069</td>\n",
              "    </tr>\n",
              "    <tr>\n",
              "      <th>bmd</th>\n",
              "      <td>0.027456</td>\n",
              "      <td>-0.306576</td>\n",
              "      <td>0.555964</td>\n",
              "      <td>0.324430</td>\n",
              "      <td>-0.192069</td>\n",
              "      <td>1.000000</td>\n",
              "    </tr>\n",
              "  </tbody>\n",
              "</table>\n",
              "</div>"
            ],
            "text/plain": [
              "                    id       age  weight_kg  height_cm  waiting_time       bmd\n",
              "id            1.000000 -0.096807   0.087085  -0.103910     -0.010195  0.027456\n",
              "age          -0.096807  1.000000  -0.093117  -0.215269      0.037561 -0.306576\n",
              "weight_kg     0.087085 -0.093117   1.000000   0.367827     -0.046684  0.555964\n",
              "height_cm    -0.103910 -0.215269   0.367827   1.000000      0.009275  0.324430\n",
              "waiting_time -0.010195  0.037561  -0.046684   0.009275      1.000000 -0.192069\n",
              "bmd           0.027456 -0.306576   0.555964   0.324430     -0.192069  1.000000"
            ]
          },
          "metadata": {
            "tags": []
          },
          "execution_count": 9
        }
      ]
    },
    {
      "cell_type": "code",
      "metadata": {
        "id": "lZk8I18LRVSL"
      },
      "source": [
        ""
      ],
      "execution_count": null,
      "outputs": []
    }
  ]
}